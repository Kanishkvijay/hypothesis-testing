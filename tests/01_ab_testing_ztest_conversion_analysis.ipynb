{
  "nbformat": 4,
  "nbformat_minor": 0,
  "metadata": {
    "colab": {
      "provenance": []
    },
    "kernelspec": {
      "name": "python3",
      "display_name": "Python 3"
    },
    "language_info": {
      "name": "python"
    }
  },
  "cells": [
    {
      "cell_type": "code",
      "execution_count": 31,
      "metadata": {
        "id": "TgFRgdxSorTu"
      },
      "outputs": [],
      "source": [
        "import pandas as pd\n",
        "from statsmodels.stats.proportion import proportions_ztest"
      ]
    },
    {
      "cell_type": "code",
      "source": [
        "df=pd.read_csv(\"ab_data.csv\")"
      ],
      "metadata": {
        "id": "ANSx3RHLuG5s"
      },
      "execution_count": 32,
      "outputs": []
    },
    {
      "cell_type": "code",
      "source": [
        "df=df[((df['group']=='control')&(df['landing_page']=='old_page')) | ((df['group']=='treatment')&(df['landing_page']=='new_page'))]"
      ],
      "metadata": {
        "id": "vMNAVFcEuqtW"
      },
      "execution_count": 33,
      "outputs": []
    },
    {
      "cell_type": "code",
      "source": [
        "df=df.drop_duplicates(subset='user_id')"
      ],
      "metadata": {
        "id": "czhzQVyVvNuc"
      },
      "execution_count": 34,
      "outputs": []
    },
    {
      "cell_type": "code",
      "source": [
        "control_converted=df[(df['group']=='control')]['converted'].sum()\n",
        "treatment_converted=df[(df['group']=='treatment')]['converted'].sum()"
      ],
      "metadata": {
        "id": "xBMuEhOmvglj"
      },
      "execution_count": 35,
      "outputs": []
    },
    {
      "cell_type": "code",
      "source": [
        "control_n=df[df['group']=='control'].shape[0]\n",
        "treatment_n=df[df['group']=='treatment'].shape[0]"
      ],
      "metadata": {
        "id": "9Seuj8qAv4g4"
      },
      "execution_count": 36,
      "outputs": []
    },
    {
      "cell_type": "code",
      "source": [
        "stats,pval=proportions_ztest(count=[control_converted,treatment_converted],nobs=[control_n,treatment_n],alternative='two-sided')\n",
        "print(f\"Z-statistic: {stats:.4f}\")\n",
        "print(f\"P-value: {pval:.4f}\")"
      ],
      "metadata": {
        "colab": {
          "base_uri": "https://localhost:8080/"
        },
        "id": "MJL9_k0YwG5t",
        "outputId": "e9315314-4f02-4190-d7fc-7e5a8eb9b4bf"
      },
      "execution_count": 37,
      "outputs": [
        {
          "output_type": "stream",
          "name": "stdout",
          "text": [
            "Z-statistic: 1.3109\n",
            "P-value: 0.1899\n"
          ]
        }
      ]
    },
    {
      "cell_type": "code",
      "source": [
        "\n",
        "print(\"Hypothesis Summary:\")\n",
        "print(\"Null Hypothesis (H0): Conversion rate of the new landing page is equal to that of the old landing page.\")\n",
        "print(\"Alternative Hypothesis (H1): Conversion rate of the new landing page is different from that of the old landing page.\\n\")\n",
        "if pval < 0.05:\n",
        "    print(\"Conclusion: Reject the null hypothesis – There is a statistically significant difference in conversion rates.\")\n",
        "else:\n",
        "    print(\"Conclusion: Fail to reject the null hypothesis – No statistically significant difference in conversion rates.\")"
      ],
      "metadata": {
        "colab": {
          "base_uri": "https://localhost:8080/"
        },
        "id": "RdvJizGjxGhB",
        "outputId": "e8d6fea8-3bcc-4bc9-b7bb-42a21f082982"
      },
      "execution_count": 30,
      "outputs": [
        {
          "output_type": "stream",
          "name": "stdout",
          "text": [
            "Hypothesis Summary:\n",
            "Null Hypothesis (H0): Conversion rate of the new landing page is equal to that of the old landing page.\n",
            "Alternative Hypothesis (H1): Conversion rate of the new landing page is different from that of the old landing page.\n",
            "\n",
            "Conclusion: Fail to reject the null hypothesis – No statistically significant difference in conversion rates.\n"
          ]
        }
      ]
    }
  ]
}